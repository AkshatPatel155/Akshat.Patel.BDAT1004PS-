{
 "cells": [
  {
   "cell_type": "markdown",
   "id": "49979d35",
   "metadata": {},
   "source": [
    "# Question 6:\n",
    "Python \n",
    "16. You can turn a word into pig-Latin using the following two rules (simplified): • If the word starts with a consonant, move that letter to the end and append 'ay'. For example, 'happy' becomes 'appyhay' and 'pencil' becomes 'encilpay'. • If the word starts with a vowel, simply append 'way' to the end of the word. For example, 'enter' becomes 'enterway' and 'other' becomes 'otherway' . For our purposes, there are 5 vowels: a, e, i, o, u (so we count y as a consonant). Write a function pig() that takes a word (i.e., a string) as input and returns its pig- Latin form. Your function should still work if the input word contains upper case characters. Your output should always be lower case however."
   ]
  },
  {
   "cell_type": "code",
   "execution_count": 2,
   "id": "8c56f12e",
   "metadata": {},
   "outputs": [],
   "source": [
    "def pig(word):\n",
    "    list = ['a', 'e' , 'i' , 'o' , 'u' , 'A', 'E' , 'I' , 'O', '']\n",
    "    if word[0] in list:\n",
    "        print(word + 'way')\n",
    "    else:\n",
    "        print(word[1:] + word[0] + \"ay\")"
   ]
  },
  {
   "cell_type": "code",
   "execution_count": 3,
   "id": "d1a126ff",
   "metadata": {},
   "outputs": [
    {
     "name": "stdout",
     "output_type": "stream",
     "text": [
      "Enter name : happy\n",
      "appyhay\n"
     ]
    }
   ],
   "source": [
    "pig(input('Enter name : '))"
   ]
  },
  {
   "cell_type": "code",
   "execution_count": 4,
   "id": "be32a083",
   "metadata": {},
   "outputs": [
    {
     "name": "stdout",
     "output_type": "stream",
     "text": [
      "Enter name : Enter\n",
      "Enterway\n"
     ]
    }
   ],
   "source": [
    "pig(input('Enter name : '))"
   ]
  },
  {
   "cell_type": "markdown",
   "id": "47d67a8c",
   "metadata": {},
   "source": [
    "# Question 7 :\n",
    "File bloodtype1.txt records blood-types of patients (A, B, AB, O or OO) at a clinic. Write a function bldcount() that reads the file with name name and reports (i.e., prints) how many patients there are in each bloodtype."
   ]
  },
  {
   "cell_type": "code",
   "execution_count": 3,
   "id": "0e508f46",
   "metadata": {},
   "outputs": [
    {
     "name": "stdout",
     "output_type": "stream",
     "text": [
      "There  are 15 patients  of  blood  type  A.\n",
      "There  are 1 patients  of  blood  type  B.\n",
      "There  are 15 patients  of  blood  type  O.\n",
      "There  are 0 patients  of  blood  type  OO.\n",
      "There  are 13 patients  of  blood  type  AB.\n"
     ]
    }
   ],
   "source": [
    "def bldcount(fileName):\n",
    "    f = open(fileName, \"r\")\n",
    "    A = 0\n",
    "    B = 0\n",
    "    O = 0\n",
    "    OO = 0\n",
    "    AB = 0\n",
    "    for line in f:\n",
    "        for word in line.split():\n",
    "            if word == \"A\":\n",
    "                A = 1 + A\n",
    "            elif word == \"B\":\n",
    "                B = 1 + B\n",
    "            elif word == \"O\":\n",
    "                O = 1 + O\n",
    "            elif word == \"OO\":\n",
    "                OO = 1 + OO\n",
    "            elif word == \"AB\":\n",
    "                AB = 1 + AB\n",
    "\n",
    "    print('There  are '+ str(A) +' patients  of  blood  type  A.')\n",
    "    print('There  are '+ str(B) +' patients  of  blood  type  B.')\n",
    "    print('There  are '+ str(O) +' patients  of  blood  type  O.')\n",
    "    print('There  are '+ str(OO) +' patients  of  blood  type  OO.')\n",
    "    print('There  are '+ str(AB) +' patients  of  blood  type  AB.')\n",
    "\n",
    "bldcount(\"bloodtype1.txt\")"
   ]
  },
  {
   "cell_type": "markdown",
   "id": "dd22bc51",
   "metadata": {},
   "source": [
    "# Question 8:\n",
    "Write a function curconv() that takes as input: "
   ]
  },
  {
   "cell_type": "code",
   "execution_count": 203,
   "id": "472acfff",
   "metadata": {},
   "outputs": [],
   "source": [
    "f = open(\"currencies.txt\", \"r\")\n",
    "\n",
    "def curconv(currency, amount):\n",
    "    USD = 0\n",
    "    for word in f:\n",
    "        if word.split()[0] == currency:\n",
    "            USD = amount * float(word.split()[1])\n",
    "            return USD"
   ]
  },
  {
   "cell_type": "code",
   "execution_count": 204,
   "id": "f38fa7e6",
   "metadata": {},
   "outputs": [
    {
     "data": {
      "text/plain": [
       "1.241401"
      ]
     },
     "execution_count": 204,
     "metadata": {},
     "output_type": "execute_result"
    }
   ],
   "source": [
    "curconv('JPY',100)"
   ]
  },
  {
   "cell_type": "code",
   "execution_count": 202,
   "id": "ebe7905e",
   "metadata": {},
   "outputs": [
    {
     "data": {
      "text/plain": [
       "122.96544"
      ]
     },
     "execution_count": 202,
     "metadata": {},
     "output_type": "execute_result"
    }
   ],
   "source": [
    "curconv('EUR',100)"
   ]
  },
  {
   "cell_type": "markdown",
   "id": "b2317064",
   "metadata": {},
   "source": [
    "# Question 9:\n",
    "Each of the following will cause an exception (an error). Identify what type of exception each will cause. "
   ]
  },
  {
   "cell_type": "code",
   "execution_count": 95,
   "id": "4cbe5e7f",
   "metadata": {},
   "outputs": [
    {
     "ename": "TypeError",
     "evalue": "unsupported operand type(s) for +: 'int' and 'str'",
     "output_type": "error",
     "traceback": [
      "\u001b[1;31m---------------------------------------------------------------------------\u001b[0m",
      "\u001b[1;31mTypeError\u001b[0m                                 Traceback (most recent call last)",
      "Input \u001b[1;32mIn [95]\u001b[0m, in \u001b[0;36m<cell line: 1>\u001b[1;34m()\u001b[0m\n\u001b[1;32m----> 1\u001b[0m \u001b[38;5;241;43m6\u001b[39;49m\u001b[43m \u001b[49m\u001b[38;5;241;43m+\u001b[39;49m\u001b[43m \u001b[49m\u001b[38;5;124;43m'\u001b[39;49m\u001b[38;5;124;43ma\u001b[39;49m\u001b[38;5;124;43m'\u001b[39;49m\n",
      "\u001b[1;31mTypeError\u001b[0m: unsupported operand type(s) for +: 'int' and 'str'"
     ]
    }
   ],
   "source": [
    "6 + 'a'"
   ]
  },
  {
   "cell_type": "code",
   "execution_count": 96,
   "id": "a878c0bb",
   "metadata": {},
   "outputs": [
    {
     "ename": "TypeError",
     "evalue": "'list' object is not callable",
     "output_type": "error",
     "traceback": [
      "\u001b[1;31m---------------------------------------------------------------------------\u001b[0m",
      "\u001b[1;31mTypeError\u001b[0m                                 Traceback (most recent call last)",
      "Input \u001b[1;32mIn [96]\u001b[0m, in \u001b[0;36m<cell line: 2>\u001b[1;34m()\u001b[0m\n\u001b[0;32m      1\u001b[0m \u001b[38;5;28mlist\u001b[39m \u001b[38;5;241m=\u001b[39m [\u001b[38;5;241m1\u001b[39m,\u001b[38;5;241m2\u001b[39m,\u001b[38;5;241m3\u001b[39m,\u001b[38;5;241m4\u001b[39m,\u001b[38;5;241m5\u001b[39m,\u001b[38;5;241m6\u001b[39m,\u001b[38;5;241m7\u001b[39m,\u001b[38;5;241m8\u001b[39m,\u001b[38;5;241m9\u001b[39m,\u001b[38;5;241m0\u001b[39m]\n\u001b[1;32m----> 2\u001b[0m \u001b[38;5;28mprint\u001b[39m(\u001b[38;5;28;43mlist\u001b[39;49m\u001b[43m(\u001b[49m\u001b[38;5;241;43m12\u001b[39;49m\u001b[43m)\u001b[49m)\n",
      "\u001b[1;31mTypeError\u001b[0m: 'list' object is not callable"
     ]
    }
   ],
   "source": [
    "list = [1,2,3,4,5,6,7,8,9,0]\n",
    "print(list(12))"
   ]
  },
  {
   "cell_type": "code",
   "execution_count": 97,
   "id": "9b0817bd",
   "metadata": {},
   "outputs": [
    {
     "ename": "NameError",
     "evalue": "name 'math' is not defined",
     "output_type": "error",
     "traceback": [
      "\u001b[1;31m---------------------------------------------------------------------------\u001b[0m",
      "\u001b[1;31mNameError\u001b[0m                                 Traceback (most recent call last)",
      "Input \u001b[1;32mIn [97]\u001b[0m, in \u001b[0;36m<cell line: 1>\u001b[1;34m()\u001b[0m\n\u001b[1;32m----> 1\u001b[0m \u001b[43mmath\u001b[49m\u001b[38;5;241m.\u001b[39msqrt(\u001b[38;5;241m-\u001b[39m\u001b[38;5;241m1\u001b[39m,\u001b[38;5;241m0\u001b[39m)\n",
      "\u001b[1;31mNameError\u001b[0m: name 'math' is not defined"
     ]
    }
   ],
   "source": [
    "math.sqrt(-1,0)"
   ]
  },
  {
   "cell_type": "code",
   "execution_count": 98,
   "id": "1e9f78ef",
   "metadata": {},
   "outputs": [
    {
     "ename": "NameError",
     "evalue": "name 'x' is not defined",
     "output_type": "error",
     "traceback": [
      "\u001b[1;31m---------------------------------------------------------------------------\u001b[0m",
      "\u001b[1;31mNameError\u001b[0m                                 Traceback (most recent call last)",
      "Input \u001b[1;32mIn [98]\u001b[0m, in \u001b[0;36m<cell line: 1>\u001b[1;34m()\u001b[0m\n\u001b[1;32m----> 1\u001b[0m \u001b[38;5;28mprint\u001b[39m(\u001b[43mx\u001b[49m)\n",
      "\u001b[1;31mNameError\u001b[0m: name 'x' is not defined"
     ]
    }
   ],
   "source": [
    "print(x)"
   ]
  },
  {
   "cell_type": "code",
   "execution_count": 99,
   "id": "c71c8fcd",
   "metadata": {},
   "outputs": [
    {
     "ename": "FileNotFoundError",
     "evalue": "[Errno 2] No such file or directory: 'akshat.txt'",
     "output_type": "error",
     "traceback": [
      "\u001b[1;31m---------------------------------------------------------------------------\u001b[0m",
      "\u001b[1;31mFileNotFoundError\u001b[0m                         Traceback (most recent call last)",
      "Input \u001b[1;32mIn [99]\u001b[0m, in \u001b[0;36m<cell line: 1>\u001b[1;34m()\u001b[0m\n\u001b[1;32m----> 1\u001b[0m file1\u001b[38;5;241m=\u001b[39m \u001b[38;5;28;43mopen\u001b[39;49m\u001b[43m(\u001b[49m\u001b[38;5;124;43m'\u001b[39;49m\u001b[38;5;124;43makshat.txt\u001b[39;49m\u001b[38;5;124;43m'\u001b[39;49m\u001b[43m,\u001b[49m\u001b[43m \u001b[49m\u001b[38;5;124;43m'\u001b[39;49m\u001b[38;5;124;43mr\u001b[39;49m\u001b[38;5;124;43m'\u001b[39;49m\u001b[43m)\u001b[49m\n",
      "\u001b[1;31mFileNotFoundError\u001b[0m: [Errno 2] No such file or directory: 'akshat.txt'"
     ]
    }
   ],
   "source": [
    "    file1= open('akshat.txt', 'r')\n"
   ]
  },
  {
   "cell_type": "markdown",
   "id": "94e860b5",
   "metadata": {},
   "source": [
    "# Question 10:\n",
    "Encryption is the process of hiding the meaning of a text by substituting letters in the message with other letters, according to some system. "
   ]
  },
  {
   "cell_type": "code",
   "execution_count": 6,
   "id": "4edd2b1c",
   "metadata": {},
   "outputs": [],
   "source": [
    "letters = 'abcdefghijklomnopqrstuwxyz'\n",
    "lettersList = list(letters)\n",
    "\n",
    "def frequencies(string):\n",
    "    output = []\n",
    "    if type(string) == str:\n",
    "        stringList = list(string)\n",
    "        for lettersChar in lettersList:\n",
    "            count = stringList.count(lettersChar)\n",
    "            output.append(count)\n",
    "        print(output)"
   ]
  },
  {
   "cell_type": "code",
   "execution_count": 7,
   "id": "7e423d1d",
   "metadata": {},
   "outputs": [
    {
     "name": "stdout",
     "output_type": "stream",
     "text": [
      "[1, 1, 1, 3, 5, 1, 1, 2, 1, 0, 1, 0, 4, 1, 2, 4, 0, 1, 2, 0, 2, 1, 1, 1, 0, 0]\n"
     ]
    }
   ],
   "source": [
    "frequencies('The quick red fox got bored and went home.')"
   ]
  },
  {
   "cell_type": "code",
   "execution_count": 12,
   "id": "d0b3d599",
   "metadata": {},
   "outputs": [
    {
     "name": "stdout",
     "output_type": "stream",
     "text": [
      "[1, 0, 0, 0, 1, 0, 0, 0, 0, 0, 0, 1, 0, 0, 0, 0, 2, 0, 0, 0, 0, 0, 0, 0, 0, 0]\n"
     ]
    }
   ],
   "source": [
    "frequencies('apple')"
   ]
  }
 ],
 "metadata": {
  "kernelspec": {
   "display_name": "Python 3 (ipykernel)",
   "language": "python",
   "name": "python3"
  },
  "language_info": {
   "codemirror_mode": {
    "name": "ipython",
    "version": 3
   },
   "file_extension": ".py",
   "mimetype": "text/x-python",
   "name": "python",
   "nbconvert_exporter": "python",
   "pygments_lexer": "ipython3",
   "version": "3.9.12"
  }
 },
 "nbformat": 4,
 "nbformat_minor": 5
}
