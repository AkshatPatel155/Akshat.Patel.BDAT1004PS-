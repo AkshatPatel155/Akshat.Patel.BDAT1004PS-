{
 "cells": [
  {
   "cell_type": "markdown",
   "id": "cb11184c",
   "metadata": {},
   "source": [
    "# Problem set 1\n",
    "\n",
    "C# question 1 to 5"
   ]
  },
  {
   "cell_type": "markdown",
   "id": "1d708d44",
   "metadata": {},
   "source": [
    "# Question 1: \n",
    "Wht data types is each of the following?"
   ]
  },
  {
   "cell_type": "code",
   "execution_count": 77,
   "id": "fc4a9681",
   "metadata": {},
   "outputs": [
    {
     "name": "stdout",
     "output_type": "stream",
     "text": [
      "System.Int32\n",
      "System.Double\n",
      "System.Boolean\n",
      "System.String\n",
      "System.Int32\n",
      "System.String\n",
      "System.Int32\n",
      "System.Int32[]\n",
      "System.Boolean\n",
      "System.Double\n"
     ]
    }
   ],
   "source": [
    "// Data type of 5\n",
    "Console.WriteLine(5.GetType());\n",
    "\n",
    "// Data type of 5.0\n",
    "Console.WriteLine((5.0).GetType());\n",
    "\n",
    "// Data type of 5>1\n",
    "Console.WriteLine((5>1).GetType());\n",
    "\n",
    "// Data type of \"5\"\n",
    "Console.WriteLine(\"5\".GetType());\n",
    "\n",
    "// Data type of 5*2\n",
    "Console.WriteLine((5*2).GetType());\n",
    "\n",
    "// Data type of \"5\" * 2\n",
    "//Console.WriteLine((\"5\" * 2).GetType());\n",
    "//this will through error\n",
    "//Operator '*' cannot be applied to operands of type 'string' and 'int'\n",
    "\n",
    "// Data type of \"5\"+\"2\"\n",
    "Console.WriteLine((\"5\"+\"2\").GetType());\n",
    "\n",
    "// Data type of 5%2\n",
    "Console.WriteLine((5%2).GetType());\n",
    "\n",
    "// Data type of {5,2,1}\n",
    "int[] array = new int[]{5,2,1};\n",
    "Console.WriteLine(array.GetType());\n",
    "\n",
    "// Data type of 5==3\n",
    "Console.WriteLine((5 == 3).GetType());\n",
    "\n",
    "// Data type of PI\n",
    "Console.WriteLine(Math.PI.GetType());"
   ]
  },
  {
   "cell_type": "markdown",
   "id": "bc90ef62",
   "metadata": {},
   "source": [
    "# Question 2: \n",
    "Write (and evaluate) C# expressions that answer these questions: "
   ]
  },
  {
   "cell_type": "code",
   "execution_count": 10,
   "id": "5ee9626e",
   "metadata": {},
   "outputs": [
    {
     "name": "stdout",
     "output_type": "stream",
     "text": [
      "34\n",
      "Yes, String Contains given substring\n",
      "Bababadalgharaghtakamminarronnkonn is the longest string.\n",
      "Bartok comes first in list\n",
      "Buxtehude comes last in list\n"
     ]
    }
   ],
   "source": [
    "//a. How many letters are there in 'Supercalifragilisticexpialidocious'?\n",
    "string a = \"Supercalifragilisticexpialidocious\";\n",
    "Console.WriteLine(a.Length);\n",
    "\n",
    "//Does 'Supercalifragilisticexpialidocious' contain 'ice' as a substring?\n",
    "if (\"Supercalifragilisticexpialidocious\".Contains(\"ice\"))\n",
    "    Console.WriteLine(\"Yes, String Contains given substring\");\n",
    "else\n",
    "    Console.WriteLine(\"No, String does not contain substring\");\n",
    "    \n",
    "//c. Which of the following words is the longest: Supercalifragilisticexpialidocious, Honorificabilitudinitatibus, or Bababadalgharaghtakamminarronnkonn\n",
    "string str1 = \"Supercalifragilisticexpialidocious\";\n",
    "string str2 = \"Honorificabilitudinitatibus\";\n",
    "string str3 = \"Bababadalgharaghtakamminarronnkonn\";\n",
    "\n",
    "if(str1.Length > str2.Length)\n",
    "    if(str1.Length > str3.Length)\n",
    "        Console.WriteLine($\"{str1} is the longest string.\");\n",
    "    else\n",
    "        Console.WriteLine($\"{str3} is the longest string.\");\n",
    "else if(str2.Length > str3.Length)\n",
    "    Console.WriteLine($\"{str2} is the longest string.\");\n",
    "else\n",
    "    Console.WriteLine($\"{str3} is the longest string.\");\n",
    "    \n",
    "//d. Which composer comes first in the dictionary: 'Berlioz', 'Borodin', 'Brian', 'Bartok', 'Bellini', 'Buxtehude', 'Bernstein'. Which one comes last? \n",
    "\n",
    "string[] givenNames = new string[]{\n",
    "    \"Berlioz\", \"Borodin\", \"Brian\", \"Bartok\", \"Bellini\", \"Buxtehude\", \"Bernstein\"\n",
    "};\n",
    "Array.Sort(givenNames);\n",
    "Console.WriteLine($\"{givenNames[0]} comes first in list\");\n",
    "Console.WriteLine($\"{givenNames[6]} comes last in list\");\n"
   ]
  },
  {
   "cell_type": "markdown",
   "id": "faa3e586",
   "metadata": {},
   "source": [
    "# Question 3: \n",
    "Implement function triangleArea(a,b,c) that takes as input the lengths of the 3 sides of a triangle and returns the area of the triangle. By Heron's formula, the area of a triangle with side lengths a, b, and c is s(s − a)(s − b)(s − c), where s = (a + b + c)/2. >>>  triangleArea(2,2,2) 1.7320508075688772 "
   ]
  },
  {
   "cell_type": "markdown",
   "id": "cf0faa65",
   "metadata": {
    "scrolled": true
   },
   "source": [
    "## Console.ReadLine() is not supported jupyter notebook so I have taken Inputs directly\n",
    "https://github.com/dotnet/try/issues/229"
   ]
  },
  {
   "cell_type": "code",
   "execution_count": 57,
   "id": "4876b435",
   "metadata": {},
   "outputs": [
    {
     "name": "stdout",
     "output_type": "stream",
     "text": [
      "1.7320508075688772"
     ]
    }
   ],
   "source": [
    "public static double triangleArea(int a,int b,int c)\n",
    "{\n",
    "    double s = (a + b + c) / 2;\n",
    "    return Math.Sqrt(s * (s - a) *(s - b) * (s - c));\n",
    "}\n",
    "int a = 2;\n",
    "int b = 2;\n",
    "int c = 2;\n",
    "\n",
    "double answer = triangleArea(a,b,c);\n",
    "Console.Write(answer);"
   ]
  },
  {
   "cell_type": "markdown",
   "id": "77d02301",
   "metadata": {},
   "source": [
    "# Question 4:\n",
    "C# Write a program in C# Sharp to separate odd and even integers in separate arrays. Go to the editor \n"
   ]
  },
  {
   "cell_type": "markdown",
   "id": "f4a9ae36",
   "metadata": {},
   "source": [
    "## Console.ReadLine() is not supported jupyter notebook so I have taken Inputs directly\n",
    "https://github.com/dotnet/try/issues/229"
   ]
  },
  {
   "cell_type": "code",
   "execution_count": 47,
   "id": "b7242fec",
   "metadata": {},
   "outputs": [
    {
     "name": "stdout",
     "output_type": "stream",
     "text": [
      "Element 0 :25\n",
      "Element 1 :47\n",
      "Element 2 :42\n",
      "Element 3 :56\n",
      "Element 4 :32\n",
      "The Even elements are: \n",
      "42 56 32 \n",
      "The Odd elements are: \n",
      "25 47 "
     ]
    }
   ],
   "source": [
    "int[] odd = new int[10];\n",
    "int[] even = new int[10];\n",
    "int[] input = new int[5]{25,47,42,56,32};\n",
    "int j = 0, k = 0;\n",
    "\n",
    "for (int i = 0; i < 5; i++)\n",
    "{\n",
    "    Console.Write($\"Element {i} :\");\n",
    "    Console.WriteLine(input[i]);\n",
    "    if (input[i] % 2 == 0)\n",
    "    {\n",
    "         even[k] = input[i];\n",
    "         k++;\n",
    "    }\n",
    "    else\n",
    "    {\n",
    "        odd[j] = input[i];\n",
    "        j++;\n",
    "    }\n",
    "}\n",
    "\n",
    "Console.WriteLine(\"The Even elements are: \");\n",
    "for (int i = 0; i < k; i++){\n",
    "    Console.Write($\"{even[i]} \");\n",
    "}\n",
    "Console.WriteLine(\"\");\n",
    "Console.WriteLine(\"The Odd elements are: \");\n",
    "\n",
    "for (int i = 0; i < j; i++){\n",
    "    Console.Write($\"{odd[i]} \");\n",
    "}\n"
   ]
  },
  {
   "cell_type": "markdown",
   "id": "766ecc39",
   "metadata": {},
   "source": [
    "# Question 5 \n",
    "Write a function inside(x,y,x1,y1,x2,y2) that returns True or False depending on whether the point (x,y) lies in the rectangle with lower left corner (x1,y1) and upper right corner (x2,y2). "
   ]
  },
  {
   "cell_type": "code",
   "execution_count": 69,
   "id": "40592c12",
   "metadata": {},
   "outputs": [],
   "source": [
    "public static bool inside(int x,int y,int x1,int y1,int x2,int y2)\n",
    "{\n",
    "    bool answer;\n",
    "    if((x1<x & x<x2) || (x2<x & x<x1)){\n",
    "        if((y1<y & y<y2) || (y2<y & y<y1)){\n",
    "             answer = true;\n",
    "        }\n",
    "        else{\n",
    "             answer = false;\n",
    "        }\n",
    "    }\n",
    "    else{\n",
    "         answer = false;\n",
    "    }\n",
    "    return answer;\n",
    "}"
   ]
  },
  {
   "cell_type": "code",
   "execution_count": 70,
   "id": "6cc5b064",
   "metadata": {},
   "outputs": [
    {
     "data": {
      "text/plain": [
       "True"
      ]
     },
     "execution_count": 70,
     "metadata": {},
     "output_type": "execute_result"
    }
   ],
   "source": [
    "inside(1,1,0,0,2,3)"
   ]
  },
  {
   "cell_type": "code",
   "execution_count": 71,
   "id": "b82f0f51",
   "metadata": {},
   "outputs": [
    {
     "data": {
      "text/plain": [
       "False"
      ]
     },
     "execution_count": 71,
     "metadata": {},
     "output_type": "execute_result"
    }
   ],
   "source": [
    "inside(-1,-1,0,0,2,3)"
   ]
  }
 ],
 "metadata": {
  "kernelspec": {
   "display_name": ".NET (C#)",
   "language": "C#",
   "name": ".net-csharp"
  },
  "language_info": {
   "file_extension": ".cs",
   "mimetype": "text/x-csharp",
   "name": "C#",
   "pygments_lexer": "csharp",
   "version": "8.0"
  }
 },
 "nbformat": 4,
 "nbformat_minor": 5
}
